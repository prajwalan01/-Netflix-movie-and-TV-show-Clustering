{
  "nbformat": 4,
  "nbformat_minor": 0,
  "metadata": {
    "colab": {
      "provenance": [],
      "mount_file_id": "1f7AV7BL0VhbG9TA5L0DecjJQ5xJWw7Sn",
      "authorship_tag": "ABX9TyOAkXK3lRy1BAWgzgsaLGVF",
      "include_colab_link": true
    },
    "kernelspec": {
      "name": "python3",
      "display_name": "Python 3"
    },
    "language_info": {
      "name": "python"
    }
  },
  "cells": [
    {
      "cell_type": "markdown",
      "metadata": {
        "id": "view-in-github",
        "colab_type": "text"
      },
      "source": [
        "<a href=\"https://colab.research.google.com/github/prajwalan01/-Netflix-movie-and-TV-show-Clustering/blob/main/Prajwal_submission_pynb.ipynb\" target=\"_parent\"><img src=\"https://colab.research.google.com/assets/colab-badge.svg\" alt=\"Open In Colab\"/></a>"
      ]
    },
    {
      "cell_type": "markdown",
      "source": [
        "Submissiom of Python_task_1_py"
      ],
      "metadata": {
        "id": "oRjWgrrWAa_L"
      }
    },
    {
      "cell_type": "code",
      "execution_count": null,
      "metadata": {
        "id": "dAIED2jx9cZW"
      },
      "outputs": [],
      "source": [
        "import pandas as pd\n",
        "import numpy as np"
      ]
    },
    {
      "cell_type": "code",
      "source": [
        "from google.colab import drive\n",
        "drive.mount('/content/drive')"
      ],
      "metadata": {
        "colab": {
          "base_uri": "https://localhost:8080/"
        },
        "id": "u2VIGw63A4P7",
        "outputId": "56f0ca26-ef11-4286-a732-7b69097d3d52"
      },
      "execution_count": null,
      "outputs": [
        {
          "output_type": "stream",
          "name": "stdout",
          "text": [
            "Mounted at /content/drive\n"
          ]
        }
      ]
    },
    {
      "cell_type": "code",
      "source": [
        "py_df = ('/content/dataset-1.csv')"
      ],
      "metadata": {
        "id": "ZqubAfAGBe-u"
      },
      "execution_count": null,
      "outputs": []
    },
    {
      "cell_type": "markdown",
      "source": [
        "Question 1: Car Matrix Generation"
      ],
      "metadata": {
        "id": "LqQCzgtLB0OC"
      }
    },
    {
      "cell_type": "code",
      "source": [
        "import pandas as pd\n",
        "import numpy as np\n",
        "\n",
        "def generate_car_matrix():\n",
        "    # Read the dataset into a DataFrame\n",
        "    df = pd.read_csv('dataset-1.csv')\n",
        "\n",
        "    # Pivot the DataFrame to create the matrix\n",
        "    matrix = df.pivot_table(values='car', index='id_1', columns='id_2', aggfunc=np.sum, fill_value=0)\n",
        "\n",
        "    # Set diagonal values to 0\n",
        "    np.fill_diagonal(matrix.values, 0)\n",
        "\n",
        "    return matrix\n",
        "\n",
        "# Generate the matrix\n",
        "result_dataframe = generate_car_matrix()\n",
        "print(result_dataframe)\n"
      ],
      "metadata": {
        "colab": {
          "base_uri": "https://localhost:8080/"
        },
        "id": "nzIixmTbECpO",
        "outputId": "6e39f770-c070-4742-ef35-3999a594a569"
      },
      "execution_count": null,
      "outputs": [
        {
          "output_type": "stream",
          "name": "stdout",
          "text": [
            "id_2    801    802    803    804    805    806    807    808    809    821  \\\n",
            "id_1                                                                         \n",
            "801    0.00   2.80   6.00   7.70  11.70  13.40  16.90  19.60  21.00  23.52   \n",
            "802    2.80   0.00   3.40   5.20   9.20  10.90  14.30  17.10  18.50  20.92   \n",
            "803    6.00   3.40   0.00   2.00   6.00   7.70  11.10  13.90  15.30  17.72   \n",
            "804    7.70   5.20   2.00   0.00   4.40   6.10   9.50  12.30  13.70  16.12   \n",
            "805   11.70   9.20   6.00   4.40   0.00   2.00   5.40   8.20   9.60  12.02   \n",
            "806   13.40  10.90   7.70   6.10   2.00   0.00   3.80   6.60   8.00  10.42   \n",
            "807   16.90  14.30  11.10   9.50   5.40   3.80   0.00   2.90   4.30   6.82   \n",
            "808   19.60  17.10  13.90  12.30   8.20   6.60   2.90   0.00   1.70   4.12   \n",
            "809   21.00  18.50  15.30  13.70   9.60   8.00   4.30   1.70   0.00   2.92   \n",
            "821   23.52  20.92  17.72  16.12  12.02  10.42   6.82   4.12   2.92   0.00   \n",
            "822   24.67  22.07  18.87  17.27  13.17  11.57   7.97   5.27   4.07   1.80   \n",
            "823   26.53  23.93  20.73  19.13  15.03  13.43   9.83   7.13   5.93   3.67   \n",
            "824   27.92  25.32  22.12  20.52  16.42   7.80  11.22   8.52   7.32   5.06   \n",
            "825   29.08  26.48  23.28  21.68  17.58  15.98  12.38   9.68   8.48   6.22   \n",
            "826   30.87  28.27  25.07  23.47  19.37  17.77  14.17  11.47  10.27   8.01   \n",
            "827   32.53  29.93  26.73  25.13  21.03  19.43  15.83  13.13  11.93   9.43   \n",
            "829   36.32  33.72  30.52  28.92  24.82  23.22  19.62  16.92  15.72  13.26   \n",
            "830   38.27  35.67  32.47  30.87  26.77  25.17  21.57  18.87  17.67  15.17   \n",
            "831   39.24  36.64  33.44  31.84  27.74  26.14  22.54  19.84  18.64  16.15   \n",
            "\n",
            "id_2    822    823    824    825    826    827    829    830    831  \n",
            "id_1                                                                 \n",
            "801   24.67  26.53  27.92  29.08  30.87  32.53  36.32  38.27  39.24  \n",
            "802   22.07  23.93  25.32  26.48  28.27  29.93  33.72  35.67  36.64  \n",
            "803   18.87  20.73  22.12  23.28  25.07  26.73  30.52  32.47  33.44  \n",
            "804   17.27  19.13  20.52  21.68  23.47  25.13  28.92  30.87  31.84  \n",
            "805   13.17  15.03  16.42  17.58  19.37  21.03  24.82  26.77  27.74  \n",
            "806   11.57  13.43  14.82  15.98  17.77  19.43  23.22  25.17  26.14  \n",
            "807    7.97   9.83  11.22  12.38  14.17  15.83  19.62  21.57  22.54  \n",
            "808    5.27   7.13   8.52   9.68  11.47  13.13  16.92  18.87  19.84  \n",
            "809    4.07   5.93   7.32   8.48  10.27  11.93  15.72  17.67  18.64  \n",
            "821    1.80   3.67   5.06   6.22   8.01   9.43  13.26  15.17  16.15  \n",
            "822    0.00   2.21   3.60   4.76   6.55   8.00  11.81  13.74  14.68  \n",
            "823    2.21   0.00   1.79   2.94   4.74   6.15  10.00  11.89  12.87  \n",
            "824    3.60   1.79   0.00   1.71   3.50   4.92   8.77  10.66  11.64  \n",
            "825    4.76   2.94   1.71   0.00   2.20   3.65   7.46   9.35  10.33  \n",
            "826    6.55   4.74   3.50   2.20   0.00   2.05   5.81   7.71   8.69  \n",
            "827    8.00   6.15   4.92   3.65   2.05   0.00   4.14   6.06   7.04  \n",
            "829   11.81  10.00  21.40   7.46   5.81   4.14   0.00   2.38   3.36  \n",
            "830   13.74  11.89  10.66   0.00   7.71   6.06   2.38   0.00   1.39  \n",
            "831   14.68  12.87  11.64  10.33   8.69   7.04   3.36   1.39   0.00  \n"
          ]
        }
      ]
    },
    {
      "cell_type": "markdown",
      "source": [
        "Question 2: Car Type Count Calculation"
      ],
      "metadata": {
        "id": "n7n52qLhEfzH"
      }
    },
    {
      "cell_type": "code",
      "source": [
        "import pandas as pd\n",
        "\n",
        "def get_type_count():\n",
        "    # Read the dataset into a DataFrame\n",
        "    df = pd.read_csv('dataset-1.csv')\n",
        "\n",
        "    # Add a new column 'car_type' based on 'car' values\n",
        "    conditions = [\n",
        "        (df['car'] <= 15),\n",
        "        (df['car'] > 15) & (df['car'] <= 25),\n",
        "        (df['car'] > 25)\n",
        "    ]\n",
        "    choices = ['low', 'medium', 'high']\n",
        "    df['car_type'] = pd.Series(np.select(conditions, choices))\n",
        "\n",
        "    # Calculate count of occurrences for each car_type category\n",
        "    type_counts = df['car_type'].value_counts().to_dict()\n",
        "\n",
        "    # Sort the dictionary alphabetically based on keys\n",
        "    sorted_type_counts = {k: type_counts[k] for k in sorted(type_counts)}\n",
        "\n",
        "    return sorted_type_counts\n",
        "\n",
        "# Get the count of car_type occurrences\n",
        "result_dict = get_type_count()\n",
        "print(result_dict)\n"
      ],
      "metadata": {
        "colab": {
          "base_uri": "https://localhost:8080/"
        },
        "id": "IQu-QjYZEpAS",
        "outputId": "856da2a3-9b9c-4478-edc2-10a84eaf47d0"
      },
      "execution_count": null,
      "outputs": [
        {
          "output_type": "stream",
          "name": "stdout",
          "text": [
            "{'high': 56, 'low': 196, 'medium': 89}\n"
          ]
        }
      ]
    },
    {
      "cell_type": "markdown",
      "source": [
        "Question 3: Bus Count Index Retrieval"
      ],
      "metadata": {
        "id": "fdf-IXUlE5Fm"
      }
    },
    {
      "cell_type": "code",
      "source": [
        "import pandas as pd\n",
        "\n",
        "def get_bus_indexes():\n",
        "    # Read the dataset into a DataFrame\n",
        "    df = pd.read_csv('dataset-1.csv')\n",
        "\n",
        "    # Calculate the mean of the 'bus' column\n",
        "    mean_bus = df['bus'].mean()\n",
        "\n",
        "    # Find indices where 'bus' values are greater than twice the mean\n",
        "    bus_indexes = df[df['bus'] > 2 * mean_bus].index.tolist()\n",
        "    bus_indexes.sort()\n",
        "\n",
        "    return bus_indexes\n",
        "\n",
        "# Get the indices where 'bus' values are greater than twice the mean\n",
        "result_list = get_bus_indexes()\n",
        "print(result_list)\n"
      ],
      "metadata": {
        "colab": {
          "base_uri": "https://localhost:8080/"
        },
        "id": "0Jzhiyd5E62d",
        "outputId": "524e3ce3-af9f-4dd0-93d5-cb4ca0a1bfae"
      },
      "execution_count": null,
      "outputs": [
        {
          "output_type": "stream",
          "name": "stdout",
          "text": [
            "[2, 7, 12, 17, 25, 30, 54, 64, 70, 97, 144, 145, 149, 154, 160, 201, 206, 210, 215, 234, 235, 245, 250, 309, 314, 319, 322, 323, 334, 340]\n"
          ]
        }
      ]
    },
    {
      "cell_type": "markdown",
      "source": [
        "Question 4: Route Filtering"
      ],
      "metadata": {
        "id": "aZ9oK_drFKzp"
      }
    },
    {
      "cell_type": "code",
      "source": [
        "import pandas as pd\n",
        "\n",
        "def filter_routes():\n",
        "    # Read the dataset into a DataFrame\n",
        "    df = pd.read_csv('dataset-1.csv')\n",
        "\n",
        "    # Group by 'route' and calculate the average of 'truck' column\n",
        "    route_avg_truck = df.groupby('route')['truck'].mean()\n",
        "\n",
        "    # Filter routes where average 'truck' values are greater than 7\n",
        "    filtered_routes = route_avg_truck[route_avg_truck > 7].index.tolist()\n",
        "    filtered_routes.sort()\n",
        "\n",
        "    return filtered_routes\n",
        "\n",
        "# Get the sorted list of routes where average 'truck' values are greater than 7\n",
        "result_list = filter_routes()\n",
        "print(result_list)\n"
      ],
      "metadata": {
        "colab": {
          "base_uri": "https://localhost:8080/"
        },
        "id": "cdVhZgzcFM9G",
        "outputId": "fecc47bb-58db-4bc9-cc3e-416cd243ffaa"
      },
      "execution_count": null,
      "outputs": [
        {
          "output_type": "stream",
          "name": "stdout",
          "text": [
            "[1, 2, 3, 4, 5, 6, 7, 8, 9, 10]\n"
          ]
        }
      ]
    },
    {
      "cell_type": "markdown",
      "source": [
        "Question 5: Matrix Value Modification"
      ],
      "metadata": {
        "id": "VvELyRcYFZtM"
      }
    },
    {
      "cell_type": "code",
      "source": [
        "def multiply_matrix(resulting_dataframe):\n",
        "    # Iterate through each value in the DataFrame\n",
        "    for index, row in resulting_dataframe.iterrows():\n",
        "        for column in resulting_dataframe.columns:\n",
        "            value = resulting_dataframe.at[index, column]\n",
        "            # Check the conditions and perform multiplication\n",
        "            if value > 20:\n",
        "                resulting_dataframe.at[index, column] = round(value * 0.75, 1)\n",
        "            else:\n",
        "                resulting_dataframe.at[index, column] = round(value * 1.25, 1)\n",
        "\n",
        "    return resulting_dataframe\n"
      ],
      "metadata": {
        "id": "KdToIsqUIjYe"
      },
      "execution_count": null,
      "outputs": []
    },
    {
      "cell_type": "markdown",
      "source": [
        "Question 6: Time Check"
      ],
      "metadata": {
        "id": "cjNpyUCdI97d"
      }
    },
    {
      "cell_type": "code",
      "source": [
        "Py_df = pd.read_csv('/content/dataset-2.csv')"
      ],
      "metadata": {
        "id": "E58Om8hvIl7y"
      },
      "execution_count": null,
      "outputs": []
    },
    {
      "cell_type": "code",
      "source": [
        "def verify_timestamp_completeness(df):\n",
        "    df['start_timestamp'] = pd.to_datetime(df['startDay'] + ' ' + df['startTime'], format='%Y-%m-%d %I:%M:%S %p', errors='coerce')\n",
        "    df['end_timestamp'] = pd.to_datetime(df['endDay'] + ' ' + df['endTime'], format='%Y-%m-%d %I:%M:%S %p', errors='coerce')\n",
        "\n",
        "    completeness = df.groupby(['id', 'id_2']).apply(\n",
        "        lambda x: (\n",
        "            x['end_timestamp'].max() - x['start_timestamp'].min() >= pd.Timedelta(days=7)\n",
        "            and x['start_timestamp'].dt.time.min() == pd.Timestamp('00:00:00').time()\n",
        "            and x['end_timestamp'].dt.time.max() == pd.Timestamp('23:59:59').time()\n",
        "        )\n",
        "    )\n",
        "\n",
        "    return completeness\n"
      ],
      "metadata": {
        "id": "UrxZWrUmM-Vp"
      },
      "execution_count": null,
      "outputs": []
    },
    {
      "cell_type": "markdown",
      "source": [
        "Python Task 2"
      ],
      "metadata": {
        "id": "TmyzJyHWNE1E"
      }
    },
    {
      "cell_type": "code",
      "source": [
        "Py_df = pd.read_csv('/content/dataset-3.csv')"
      ],
      "metadata": {
        "id": "z5qOSaHMNgWR"
      },
      "execution_count": null,
      "outputs": []
    },
    {
      "cell_type": "markdown",
      "source": [
        "Question 1: Distance Matrix Calculation"
      ],
      "metadata": {
        "id": "iTk9h4MZNMZW"
      }
    },
    {
      "cell_type": "code",
      "source": [
        "import pandas as pd\n",
        "\n",
        "def calculate_distance_matrix(df):\n",
        "    # Load the dataset containing distance information\n",
        "    data = pd.read_csv('/content/dataset-3.csv')\n",
        "\n",
        "    # Assuming the dataset contains columns related to IDs and distances\n",
        "    id_columns = ['id_1', 'id_2']  # Change these to the actual column names for IDs\n",
        "\n",
        "    # Ensure columns 'distance' or any alternative names are present in the dataset\n",
        "    if 'distance' not in data.columns:\n",
        "        raise ValueError(\"Distance column not found in the dataset.\")\n",
        "\n",
        "    # Group by the ID columns and sum the distances for each pair\n",
        "    grouped = data.groupby(id_columns)['distance'].sum().reset_index()\n",
        "\n",
        "    # Create a pivot table to represent distances between start and end points\n",
        "    pivot_table = pd.pivot_table(grouped, values='distance', index=id_columns[0], columns=id_columns[1], fill_value=0)\n",
        "\n",
        "    # Create an empty DataFrame for the distance matrix\n",
        "    distance_matrix = pd.DataFrame(0, index=pivot_table.index, columns=pivot_table.columns, dtype=int)\n",
        "\n",
        "    # Update distance matrix with cumulative distances along known routes\n",
        "    for col in pivot_table.columns:\n",
        "        for idx in pivot_table.index:\n",
        "            distance = pivot_table.loc[idx, col] + pivot_table.loc[col, idx]\n",
        "            distance_matrix.loc[idx, col] = distance\n",
        "            distance_matrix.loc[col, idx] = distance\n",
        "\n",
        "    # Set diagonal values to 0\n",
        "    distance_matrix.values\n"
      ],
      "metadata": {
        "id": "0EGgmnwtOCJI"
      },
      "execution_count": null,
      "outputs": []
    },
    {
      "cell_type": "markdown",
      "source": [
        "Question 2: Unroll Distance Matrix"
      ],
      "metadata": {
        "id": "AuTxq-7RQBFB"
      }
    },
    {
      "cell_type": "code",
      "source": [
        "import pandas as pd\n",
        "\n",
        "def calculate_distance_matrix(file_path):\n",
        "    # Read the dataset containing distances between IDs\n",
        "    data = pd.read_csv(file_path)\n",
        "\n",
        "    # Find potential column names for IDs and distance\n",
        "    possible_id_columns = ['id_1', 'ID_1', 'Id_1']  # Add potential variations of ID column names\n",
        "    possible_distance_columns = ['distance', 'Distance', 'dist', 'Dist']  # Add potential variations of distance column names\n",
        "\n",
        "    id_column_1 = None\n",
        "    id_column_2 = None\n",
        "    distance_column = None\n",
        "\n",
        "    # Find correct column names for IDs and distance\n",
        "    for col in possible_id_columns:\n",
        "        if col in data.columns:\n",
        "            id_column_1 = col\n",
        "            break\n",
        "\n",
        "    for col in possible_id_columns:\n",
        "        if col in data.columns and col != id_column_1:\n",
        "            id_column_2 = col\n",
        "            break\n",
        "\n",
        "    for col in possible_distance_columns:\n",
        "        if col in data.columns:\n",
        "            distance_column = col\n",
        "            break\n",
        "\n",
        "    # Check if columns were found\n",
        "    if id_column_1 is None or id_column_2 is None or distance_column is None:\n",
        "        raise ValueError(\"Columns for IDs or distances not found in the dataset.\")\n",
        "\n",
        "    # Group by ID pairs and calculate cumulative distances\n",
        "    grouped = data.groupby([id_column_1, id_column_2])[distance_column].sum().reset_index()\n",
        "\n",
        "    # Create a list of unique IDs\n",
        "    all_ids = set(grouped[id_column_1]).union(set(grouped[id_column_2]))\n",
        "\n",
        "    # Initialize an empty distance matrix DataFrame\n",
        "    distance_matrix = pd.DataFrame(0, index=all_ids, columns=all_ids)\n",
        "\n",
        "    # Fill in the distance matrix with cumulative distances\n",
        "    for _, row in grouped.iterrows():\n",
        "        id_1, id_2, dist = row[id_column_1], row[id_column_2], row[distance_column]\n",
        "        distance_matrix.loc[id_1, id_2] = dist\n",
        "        distance_matrix.loc[id_2, id_1] = dist  # Accounting for bidirectional distances\n",
        "\n",
        "    # Set diagonal values to 0\n",
        "    distance_matrix.values[[range(len(distance_matrix))]*2] = 0\n",
        "\n",
        "    return distance_matrix\n",
        "\n",
        "def unroll_distance_matrix(distance_matrix):\n",
        "    # Get indices from the distance matrix\n",
        "    ids = distance_matrix.index\n",
        "\n",
        "    # Create an empty DataFrame to store unrolled distances\n",
        "    unrolled_distances = pd.DataFrame(columns=['id_start', 'id_end', 'distance'])\n",
        "\n",
        "    # Loop through indices and extract non-diagonal values\n",
        "    for id_start in ids:\n",
        "        for id_end in ids:\n",
        "            if id_start != id_end:\n",
        "                distance = distance_matrix.loc[id_start, id_end]\n",
        "                unrolled_distances = unrolled_distances.append({'id_start': id_start, 'id_end': id_end, 'distance': distance}, ignore_index=True)\n",
        "\n",
        "\n"
      ],
      "metadata": {
        "id": "02Q6QYoMRuxz"
      },
      "execution_count": null,
      "outputs": []
    },
    {
      "cell_type": "markdown",
      "source": [
        "Question 3: Finding IDs within Percentage Threshold"
      ],
      "metadata": {
        "id": "LqhR0jX2R3l0"
      }
    },
    {
      "cell_type": "code",
      "source": [
        "# Load your data into a DataFrame\n",
        "dataframe_distance = pd.read_csv('/content/dataset-3.csv')  # Replace 'your_file.csv' with your actual file path\n",
        "\n",
        "# Call the function to find IDs within 10% threshold of the reference value\n",
        "result = find_ids_within_ten_percentage_threshold(dataframe_distance,'id_start' )\n"
      ],
      "metadata": {
        "id": "g3IPOHLsYhtG"
      },
      "execution_count": null,
      "outputs": []
    },
    {
      "cell_type": "markdown",
      "source": [
        "Question 4: Calculate Toll Rate"
      ],
      "metadata": {
        "id": "HBjZHRvhZ5cj"
      }
    },
    {
      "cell_type": "code",
      "source": [
        "import pandas as pd\n",
        "\n",
        "# Creating a sample DataFrame (Replace this with your actual DataFrame)\n",
        "data = {\n",
        "    'id_start': [1, 2, 3],\n",
        "    'id_end': [2, 3, 4],\n",
        "    'distance': [10, 15, 20]  # Replace this with your actual distance data\n",
        "}\n",
        "\n",
        "distance_data = pd.DataFrame(data)\n",
        "\n",
        "def calculate_toll_rate(dataframe):\n",
        "    dataframe['moto'] = 0.8 * dataframe['distance']\n",
        "    dataframe['car'] = 1.2 * dataframe['distance']\n",
        "    dataframe['rv'] = 1.5 * dataframe['distance']\n",
        "    dataframe['bus'] = 2.2 * dataframe['distance']\n",
        "    dataframe['truck'] = 3.6 * dataframe['distance']\n",
        "\n",
        "    return dataframe\n",
        "\n",
        "# Call the function to calculate toll rates\n",
        "dataframe_with_rates = calculate_toll_rate(distance_data)\n",
        "\n",
        "print(dataframe_with_rates)\n"
      ],
      "metadata": {
        "colab": {
          "base_uri": "https://localhost:8080/"
        },
        "id": "8DtTo0OFae6C",
        "outputId": "ceea3081-7631-4bab-983e-05bba2c9db8d"
      },
      "execution_count": null,
      "outputs": [
        {
          "output_type": "stream",
          "name": "stdout",
          "text": [
            "   id_start  id_end  distance  moto   car    rv   bus  truck\n",
            "0         1       2        10   8.0  12.0  15.0  22.0   36.0\n",
            "1         2       3        15  12.0  18.0  22.5  33.0   54.0\n",
            "2         3       4        20  16.0  24.0  30.0  44.0   72.0\n"
          ]
        }
      ]
    },
    {
      "cell_type": "markdown",
      "source": [
        "Question 5: Calculate Time-Based Toll Rates"
      ],
      "metadata": {
        "id": "YsmPPvW6apAx"
      }
    },
    {
      "cell_type": "code",
      "source": [
        "import pandas as pd\n",
        "import datetime\n",
        "\n",
        "# Sample DataFrame creation (Replace this with your actual DataFrame)\n",
        "data = {\n",
        "    'id_start': [1, 2, 3],\n",
        "    'id_end': [2, 3, 4],\n",
        "    'distance': [10, 15, 20],  # Replace this with your actual distance data\n",
        "    'start_day': ['Monday', 'Tuesday', 'Wednesday'],\n",
        "    'start_time': [datetime.time(8, 30), datetime.time(12, 15), datetime.time(17, 0)]  # Replace with your actual start_time data\n",
        "}\n",
        "\n",
        "distance_data_with_time = pd.DataFrame(data)\n",
        "\n",
        "def calculate_time_based_toll_rates(dataframe):\n",
        "    # Function to apply discount factor based on time range\n",
        "    def apply_discount(row):\n",
        "        if row['start_day'] in ['Saturday', 'Sunday']:\n",
        "            return 0.7  # Discount factor for weekends\n",
        "        else:\n",
        "            if datetime.time(0, 0) <= row['start_time'] <= datetime.time(10, 0):\n",
        "                return 0.8  # Discount factor for 00:00 to 10:00 on weekdays\n",
        "            elif datetime.time(10, 0) <= row['start_time'] <= datetime.time(18, 0):\n",
        "                return 1.2  # Discount factor for 10:00 to 18:00 on weekdays\n",
        "            else:\n",
        "                return 0.8  # Discount factor for 18:00 to 23:59:59 on weekdays\n",
        "\n",
        "    # Applying the discount factor to vehicle columns based on time ranges\n",
        "    dataframe['start_day'] = dataframe['start_day'].apply(lambda x: x.capitalize())  # Proper case for days\n",
        "    dataframe['end_day'] = dataframe['start_day']  # Assuming the same day for end_day\n",
        "    dataframe['end_time'] = dataframe['start_time']  # Assuming same time for end_time\n",
        "    dataframe['moto'] = dataframe.apply(lambda row: row['distance'] * apply_discount(row) * 0.8, axis=1)\n",
        "    dataframe['car'] = dataframe.apply(lambda row: row['distance'] * apply_discount(row) * 1.2, axis=1)\n",
        "    dataframe['rv'] = dataframe.apply(lambda row: row['distance'] * apply_discount(row) * 1.2, axis=1)\n",
        "    dataframe['bus'] = dataframe.apply(lambda row: row['distance'] * apply_discount(row) * 1.2, axis=1)\n",
        "    dataframe['truck'] = dataframe.apply(lambda row: row['distance'] * apply_discount(row) * 1.2, axis=1)\n",
        "\n",
        "    return dataframe\n",
        "\n",
        "# Assuming 'distance_data_with_time' is your DataFrame variable from Question 4\n",
        "# Replace 'distance_data_with_time' with your actual DataFrame variable\n",
        "\n",
        "# Call the function to calculate time-based toll rates\n",
        "dataframe_with_time_based_rates = calculate_time_based_toll_rates(distance_data_with_time)\n",
        "\n",
        "print(dataframe_with_time_based_rates)\n"
      ],
      "metadata": {
        "colab": {
          "base_uri": "https://localhost:8080/"
        },
        "id": "rHW3N1Rxahh_",
        "outputId": "68423d1c-61a7-4a23-c47f-0bc91c959f10"
      },
      "execution_count": null,
      "outputs": [
        {
          "output_type": "stream",
          "name": "stdout",
          "text": [
            "   id_start  id_end  distance  start_day start_time    end_day  end_time  \\\n",
            "0         1       2        10     Monday   08:30:00     Monday  08:30:00   \n",
            "1         2       3        15    Tuesday   12:15:00    Tuesday  12:15:00   \n",
            "2         3       4        20  Wednesday   17:00:00  Wednesday  17:00:00   \n",
            "\n",
            "   moto   car    rv   bus  truck  \n",
            "0   6.4   9.6   9.6   9.6    9.6  \n",
            "1  14.4  21.6  21.6  21.6   21.6  \n",
            "2  19.2  28.8  28.8  28.8   28.8  \n"
          ]
        }
      ]
    },
    {
      "cell_type": "markdown",
      "source": [
        "excel_assesment.xlsm /content/prajwal excel.xlsm"
      ],
      "metadata": {
        "id": "hzx6JEiO8v8D"
      }
    },
    {
      "cell_type": "markdown",
      "source": [],
      "metadata": {
        "id": "XuN8QZCXCKCw"
      }
    }
  ]
}